{
 "cells": [
  {
   "cell_type": "code",
   "execution_count": 10,
   "metadata": {
    "collapsed": true
   },
   "outputs": [],
   "source": [
    "import pandas as pd\n",
    "name = '2017_04_04__17_15_43_645522'\n",
    "error = pd.read_csv(\"./logdir/errs/{}-errors.csv\".format(name))\n",
    "corr = pd.read_csv(\"./logdir/errs/{}-corrects.csv\".format(name))"
   ]
  },
  {
   "cell_type": "code",
   "execution_count": 3,
   "metadata": {
    "collapsed": false
   },
   "outputs": [
    {
     "data": {
      "text/plain": [
       "Index([u'Unnamed: 0', u'PRODUCT_CD', u'RECEIVER_SUBURB',\n       u'THOROUGHFARE_TYPE_CODE', u'SIDE', u'RECEIVER_DPID',\n       u'ADDRESS_CLUSTER', u'SCAN_EVENT_CD', u'DEVICE_USER_ID', u'USER_ROLE',\n       u'CONTRACT_ID', u'DELIVERY_WEEKDAY', u'ACCEPT_TIME', u'NUMERIC_TIME',\n       u'NUMERIC_ACCEPT_TIME', u'DIFF_NUMERIC_TIME', u'PREDICTION_DIFF'],\n      dtype='object')"
      ]
     },
     "execution_count": 3,
     "metadata": {},
     "output_type": "execute_result"
    }
   ],
   "source": [
    "error.columns"
   ]
  },
  {
   "cell_type": "code",
   "execution_count": 57,
   "metadata": {},
   "outputs": [],
   "source": [
    ""
   ]
  },
  {
   "cell_type": "code",
   "execution_count": 4,
   "metadata": {},
   "outputs": [
    {
     "data": {
      "text/plain": [
       "1497"
      ]
     },
     "execution_count": 4,
     "metadata": {},
     "output_type": "execute_result"
    }
   ],
   "source": [
    "len(error.index)"
   ]
  },
  {
   "cell_type": "code",
   "execution_count": 11,
   "metadata": {},
   "outputs": [
    {
     "data": {
      "image/png": "[encoded data removed]",
      "text/plain": [
       "<matplotlib.figure.Figure at 0x7fdf839c2d90>"
      ]
     },
     "metadata": {},
     "output_type": "display_data"
    }
   ],
   "source": [
    "import numpy as np\n",
    "import matplotlib.mlab as mlab\n",
    "import matplotlib.pyplot as plt\n",
    "\n",
    "\n",
    "bins = np.linspace(-10, 10, 100)\n",
    "\n",
    "plt.hist(error['PREDICTION_DIFF'], bins, alpha=0.5, label='error')\n",
    "plt.hist(corr['PREDICTION_DIFF'], bins, alpha=0.5, label='correct')\n",
    "plt.legend(loc='upper right')\n",
    "plt.show()"
   ]
  },
  {
   "cell_type": "code",
   "execution_count": null,
   "metadata": {},
   "outputs": [],
   "source": [
    ""
   ]
  }
 ],
 "metadata": {
  "kernelspec": {
   "display_name": "Python 2",
   "language": "python",
   "name": "python2"
  },
  "language_info": {
   "codemirror_mode": {
    "name": "ipython",
    "version": 2.0
   },
   "file_extension": ".py",
   "mimetype": "text/x-python",
   "name": "python",
   "nbconvert_exporter": "python",
   "pygments_lexer": "ipython2",
   "version": "2.7.6"
  }
 },
 "nbformat": 4,
 "nbformat_minor": 0
}